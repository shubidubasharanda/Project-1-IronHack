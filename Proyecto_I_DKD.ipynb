{
 "cells": [
  {
   "cell_type": "markdown",
   "id": "65eb59a6-ccd5-420f-8f27-6c9db59288d0",
   "metadata": {},
   "source": [
    "# Desafío Empresarial: Análisis de Cohortes para los Pagos de Ironhack (Proyecto 1)\n",
    "\n",
    "#### Grupo: DKDencia\n",
    "#### Miembros: Verónica Santamaría, María Pérez Cano, Mónica López Calero"
   ]
  },
  {
   "cell_type": "markdown",
   "id": "f6861e19-1957-4cc4-aa00-2b62d607a746",
   "metadata": {
    "jp-MarkdownHeadingCollapsed": true
   },
   "source": [
    "# Descripción del proyecto"
   ]
  },
  {
   "cell_type": "markdown",
   "id": "9192ef32-e557-4f47-8e60-1fdb6dc41137",
   "metadata": {},
   "source": [
    "## Introducción\n"
   ]
  },
  {
   "cell_type": "markdown",
   "id": "b6527cb7-68f3-421a-ab33-629896bda807",
   "metadata": {},
   "source": [
    "IronHack Payments, una empresa de servicios financieros de vanguardia, ha estado ofreciendo soluciones innovadoras de adelanto de efectivo desde su creación en 2020. Con un compromiso de proporcionar adelantos de dinero gratuitos y precios transparentes, IronHack Payments ha logrado una base de usuarios sustancial. Como parte de su esfuerzo continuo por mejorar sus servicios y entender el comportamiento de los usuarios, IronHack Payments ha encargado un proyecto de análisis de cohortes.\n"
   ]
  },
  {
   "cell_type": "markdown",
   "id": "870ebd31-49a8-4716-adfc-9bfcb48f6077",
   "metadata": {},
   "source": [
    "## Visión General del Proyecto\n"
   ]
  },
  {
   "cell_type": "markdown",
   "id": "0734524b-35d5-4f61-bc5b-b9cf6b4ffc46",
   "metadata": {},
   "source": [
    "En este proyecto, realizarás un análisis de cohortes exhaustivo basado en datos proporcionados por IronHack Payments. El objetivo principal es analizar cohortes de usuarios definidos por el mes de creación de su primer adelanto en efectivo. Seguirás la evolución mensual de las métricas clave para estas cohortes, lo que permitirá a IronHack Payments obtener valiosas perspectivas sobre el comportamiento de los usuarios y el rendimiento de sus servicios financieros.\n"
   ]
  },
  {
   "cell_type": "markdown",
   "id": "d559ebd6-6e18-4994-a590-a86672df9e00",
   "metadata": {},
   "source": [
    "### Métricas a Analizar\n"
   ]
  },
  {
   "cell_type": "markdown",
   "id": "4dde147f-ef48-4eb0-acb0-e94a021c3e7d",
   "metadata": {},
   "source": [
    "Calcularás y analizarás las siguientes métricas para cada cohorte:\n",
    "\n",
    "1. **Frecuencia de Uso del Servicio:** Comprender con qué frecuencia los usuarios de cada cohorte utilizan los servicios de adelanto de efectivo de IronHack Payments a lo largo del tiempo.\n",
    "2. **Tasa de Incidentes:** Determinar la tasa de incidentes, enfocándose específicamente en los incidentes de pago, para cada cohorte. Identificar si hay variaciones en las tasas de incidentes entre diferentes cohortes.\n",
    "3. **Ingresos Generados por la Cohorte:** Calcular el total de ingresos generados por cada cohorte a lo largo de los meses para evaluar el impacto financiero del comportamiento de los usuarios.\n",
    "4. **Nueva Métrica Relevante:** Proponer y calcular una nueva métrica relevante que brinde perspectivas adicionales sobre el comportamiento de los usuarios o el rendimiento de los servicios de IronHack Payments."
   ]
  },
  {
   "cell_type": "markdown",
   "id": "00aeb3c1-6311-43aa-9db4-2aae1065c2ec",
   "metadata": {},
   "source": [
    "### Herramientas de Análisis de Datos"
   ]
  },
  {
   "cell_type": "markdown",
   "id": "e5c24996-dc8e-42ec-9d99-d1b6de000d03",
   "metadata": {},
   "source": [
    "Se espera que realices el análisis de cohortes utilizando Python, aprovechando principalmente la biblioteca Pandas para la manipulación y análisis de datos. Sin embargo, el análisis principal debe realizarse utilizando Python.\n"
   ]
  },
  {
   "cell_type": "markdown",
   "id": "a4c88648-dd67-49a3-82fa-7dbca4ff2dee",
   "metadata": {},
   "source": [
    "### Análisis Exploratorio de Datos (EDA)"
   ]
  },
  {
   "cell_type": "markdown",
   "id": "5ccdbd10-21e4-4d3d-b3b6-8fe97929dbdb",
   "metadata": {
    "jp-MarkdownHeadingCollapsed": true
   },
   "source": [
    "Antes de sumergirte en el análisis de cohortes, realiza un análisis exploratorio de datos para obtener una comprensión completa del conjunto de datos. Explora estadísticas clave, distribuciones y visualizaciones para identificar patrones y valores atípicos. El EDA te ayudará a tomar decisiones informadas sobre estrategias de preprocesamiento y análisis de datos."
   ]
  },
  {
   "cell_type": "markdown",
   "id": "79a349fa-c7d5-4abe-936c-369a7e1be039",
   "metadata": {},
   "source": [
    "### Análisis de la Calidad de Datos"
   ]
  },
  {
   "cell_type": "markdown",
   "id": "69994ffa-2cd7-4b3c-ae27-8a1c2d34f8bc",
   "metadata": {},
   "source": [
    "Evalúa la calidad del conjunto de datos identificando valores faltantes, inconsistencias en los datos y posibles errores. Implementa pasos de limpieza y preprocesamiento de datos para garantizar la fiabilidad de tu análisis. Documenta cualquier problema de calidad de datos encontrado y los pasos tomados para abordarlos."
   ]
  },
  {
   "cell_type": "markdown",
   "id": "fca09f55-250b-4563-a6f6-68d817f66244",
   "metadata": {},
   "source": [
    "# Entregables\n",
    "\n",
    "1. **Código en Python:** Proporciona código en Python bien documentado que realice el análisis de cohortes, incluyendo la carga de datos, preprocesamiento, creación de cohortes, cálculo de métricas y visualización.\n",
    "2. **Informe de Análisis Exploratorio de Datos:** Prepara un informe que resuma los hallazgos de tu análisis exploratorio de datos. Incluye visualizaciones e insights que ayuden a entender el conjunto de datos.\n",
    "3. **Informe de Análisis de la Calidad de Datos:** Documenta los resultados de tu análisis de calidad de datos, destacando cualquier problema y los pasos tomados para resolverlos.\n",
    "4. **Presentación Corta:** Crea una presentación concisa (máximo de 4 diapositivas) que resuma tus hallazgos del análisis de cohortes y las perspectivas clave obtenidas del EDA y el análisis de calidad de datos. Esta presentación debe ser adecuada para compartir con el equipo de IronHack Payments."
   ]
  },
  {
   "cell_type": "markdown",
   "id": "ca31e023-cda7-4dbf-b02a-33026f4bbc07",
   "metadata": {},
   "source": [
    " **Nota:** Para mantener los standars de clean code, a partir de ahora todo el notebook será en inglés"
   ]
  },
  {
   "cell_type": "markdown",
   "id": "cf1165f9-c559-4c70-ba63-cbce21db3cea",
   "metadata": {},
   "source": [
    "# Library Imports"
   ]
  },
  {
   "cell_type": "code",
   "execution_count": null,
   "id": "7f52175c-39fd-416c-80ab-d82ca0419c7b",
   "metadata": {},
   "outputs": [],
   "source": [
    "import pandas as pd\n",
    "import seaborn as sns\n",
    "import matplotlib.pyplot as plt\n",
    "import plotly.express as px\n",
    "import numpy as np\n",
    "from ydata_profiling import ProfileReport"
   ]
  },
  {
   "cell_type": "markdown",
   "id": "c816d9f9-6af0-40a8-bda2-6a190dc4078f",
   "metadata": {},
   "source": [
    "# Import data and DataFrame creation"
   ]
  },
  {
   "cell_type": "code",
   "execution_count": null,
   "id": "2f818ea7-50a1-423f-8158-6009916808ec",
   "metadata": {},
   "outputs": [],
   "source": [
    "# Casting user_id and cash_requesst_id as Int64 for later manipulation\n",
    "df_cr = pd.read_csv('../project_dataset/extract - cash request - data analyst.csv', dtype={'user_id': 'Int64'})\n",
    "df_fees = pd.read_csv('../project_dataset/extract - fees - data analyst - .csv', dtype={'cash_request_id': 'Int64'})"
   ]
  },
  {
   "cell_type": "markdown",
   "id": "da308111-d5b7-477d-a4da-f7a23e3748e3",
   "metadata": {},
   "source": [
    "# Sanity checks and Data Quality\n",
    "\n",
    "For better understanding of both dfs, we created independent profiles. Later on we will merge them. \n",
    "\n",
    "Please uncollapse this cell to see all the preliminary exploration of both datasets. You can find more insights about data quality in a separate google doc with information about zero values, duplicates, insonsistencies and others."
   ]
  },
  {
   "cell_type": "code",
   "execution_count": null,
   "id": "c24fe09d-4ca0-4a34-9740-376afa12f28f",
   "metadata": {},
   "outputs": [],
   "source": [
    "df_cr.describe()"
   ]
  },
  {
   "cell_type": "code",
   "execution_count": null,
   "id": "30bab14a-d411-45c3-a16c-4298b147f9a2",
   "metadata": {},
   "outputs": [],
   "source": [
    "df_fees.describe()"
   ]
  },
  {
   "cell_type": "code",
   "execution_count": null,
   "id": "b66dea06-ab48-4dc6-b8fb-2127eba5bf9d",
   "metadata": {},
   "outputs": [],
   "source": [
    "df_cr.dtypes"
   ]
  },
  {
   "cell_type": "code",
   "execution_count": null,
   "id": "4a383b00-8830-4960-ba79-4c509061eedb",
   "metadata": {},
   "outputs": [],
   "source": [
    "df_fees.dtypes"
   ]
  },
  {
   "cell_type": "code",
   "execution_count": null,
   "id": "13107c91-2e58-42ef-bf1b-3769ee260c9d",
   "metadata": {
    "scrolled": true
   },
   "outputs": [],
   "source": [
    "profile_df_cr = ProfileReport(df_cr, title = \"Profile CR\")\n",
    "profile_df_cr"
   ]
  },
  {
   "cell_type": "code",
   "execution_count": null,
   "id": "01cd1f56-9c70-4851-b4b8-582807c37e7f",
   "metadata": {
    "scrolled": true
   },
   "outputs": [],
   "source": [
    "profile_df_fees = ProfileReport(df_fees, title = \"Profile Fees\")\n",
    "profile_df_fees"
   ]
  },
  {
   "cell_type": "markdown",
   "id": "4b870184-cd70-4ef8-b41c-a01d21cf4c31",
   "metadata": {},
   "source": [
    "# Data Analysis Exploration"
   ]
  },
  {
   "cell_type": "code",
   "execution_count": null,
   "id": "aacf2778-fb65-472b-b2f5-7aea7597cad0",
   "metadata": {},
   "outputs": [],
   "source": [
    "# Merging both DataFrames\n",
    "\n",
    "df = df_cr.merge(df_fees, left_on='id', right_on='cash_request_id', how='left', suffixes=('_cr', '_fees'))"
   ]
  },
  {
   "cell_type": "code",
   "execution_count": null,
   "id": "ad47c4e0-2a26-41c7-9e14-b558b5e21faa",
   "metadata": {},
   "outputs": [],
   "source": [
    "# We will add in the following cells, some interesting information that we will use in the presentation\n",
    "\n",
    "# Median of amount of cash requests\n",
    "df['amount'].median()"
   ]
  },
  {
   "cell_type": "code",
   "execution_count": null,
   "id": "f4f05e00-612b-4f19-bc9a-f838997ad5d5",
   "metadata": {},
   "outputs": [],
   "source": [
    "# Total number of cash requests made\n",
    "df['id_cr'].nunique()"
   ]
  },
  {
   "cell_type": "code",
   "execution_count": null,
   "id": "5027ffed-23e2-4789-a2f1-d0aff734ef72",
   "metadata": {},
   "outputs": [],
   "source": [
    "# Number of approved cash requests\n",
    "len(df_cr[(df_cr['status'] == 'active') | (df_cr['status'] == 'direct_debit_sent') | (df_cr['status'] == 'money_back')])"
   ]
  },
  {
   "cell_type": "code",
   "execution_count": null,
   "id": "30c5ea40-936f-495b-ba77-cc88196f8771",
   "metadata": {},
   "outputs": [],
   "source": [
    "# Total Revenue made\n",
    "revenue_made = df['total_amount'].sum()\n",
    "revenue_made"
   ]
  },
  {
   "cell_type": "code",
   "execution_count": null,
   "id": "50b6f2f6-9728-4699-8f2e-ff77daebf4f5",
   "metadata": {},
   "outputs": [],
   "source": [
    "# To know how many months have the company been active (at least from our data) we do the following\n",
    "# Convert create_at_cr into datetime\n",
    "df['created_at_cr'] = pd.to_datetime(df['created_at_cr'])\n",
    "\n",
    "# We need this to knwo how much revenue per month\n",
    "months = (df['created_at_cr'].max() - df['created_at_cr'].min())\n",
    "\n",
    "months_in_days = months.days + months.seconds / 86400  # Convert seconds to days\n",
    "months_exact = months_in_days / 30.44  # approximate using 30.44 days per month\n",
    "months_exact"
   ]
  },
  {
   "cell_type": "code",
   "execution_count": null,
   "id": "e3088e9f-45dc-4171-9ccc-fb86afa557e8",
   "metadata": {},
   "outputs": [],
   "source": [
    "# Revenue per month\n",
    "revenue_month = revenue_made / months_exact\n",
    "revenue_month"
   ]
  },
  {
   "cell_type": "code",
   "execution_count": null,
   "id": "91f990f9-8b6b-4583-9dc7-2d8c0ed4dadc",
   "metadata": {
    "scrolled": true
   },
   "outputs": [],
   "source": [
    "profile_df = ProfileReport(df, title = \"Profile all\")\n",
    "profile_df"
   ]
  },
  {
   "cell_type": "code",
   "execution_count": null,
   "id": "c0ab29c2-bdc5-44f5-928d-679ae38bd75f",
   "metadata": {},
   "outputs": [],
   "source": [
    "fig = px.histogram(df, x='created_at_cr', nbins=500, title='Frequency of cash requests')\n",
    "fig.show()"
   ]
  },
  {
   "cell_type": "code",
   "execution_count": null,
   "id": "54d071eb-da2e-4799-bf29-05091faa9369",
   "metadata": {},
   "outputs": [],
   "source": [
    "fig2 = px.histogram(df, x='reimbursement_date', nbins=500, title='Frequency of reimbursement date')\n",
    "fig2.show()"
   ]
  },
  {
   "cell_type": "code",
   "execution_count": null,
   "id": "e98e2c82-b56e-42c6-80c9-e0e1eb13ce40",
   "metadata": {},
   "outputs": [],
   "source": [
    "fig3 = px.histogram(df, x='updated_at_cr', nbins=500, title='Frequency of updated at cr')\n",
    "fig3.show()"
   ]
  },
  {
   "cell_type": "code",
   "execution_count": null,
   "id": "1f574c4c-414a-403f-9e02-8734fe4cea0d",
   "metadata": {},
   "outputs": [],
   "source": [
    "# To understand the usual days between the cr is created and the reimbursement is planned\n",
    "# Let's calculate the difference between the two variables\n",
    "# First convert the variables into datetime\n",
    "\n",
    "df['created_at_cr'] = pd.to_datetime(df['created_at_cr'], format = 'mixed')\n",
    "df['reimbursement_date'] = pd.to_datetime(df['reimbursement_date'], format = 'mixed')\n",
    "\n",
    "# In a new column, get the difference between created at and reimbursement and convert into days \n",
    "df['time_diff_created_reimburs_days'] = (df['reimbursement_date'] - df['created_at_cr']).dt.days\n",
    "\n",
    "\n",
    "# Calculate the median\n",
    "df['time_diff_created_reimburs_days'].median()\n",
    "\n"
   ]
  },
  {
   "cell_type": "code",
   "execution_count": null,
   "id": "beb41365-7021-4cde-96dd-97015dce21f0",
   "metadata": {},
   "outputs": [],
   "source": [
    "# Looks like there is one transaction with negative time difference, so this might be an error\n",
    "negative = (df['time_diff_created_reimburs_days'] < 0).sum()\n",
    "\n",
    "negative_rows = df.loc[df['time_diff_created_reimburs_days'] < 0]\n",
    "negative_rows"
   ]
  },
  {
   "cell_type": "code",
   "execution_count": null,
   "id": "783a1a00-e919-4726-a84a-91fba132da0e",
   "metadata": {},
   "outputs": [],
   "source": [
    "fig5 = px.histogram(df, x='time_diff_created_reimburs_days', nbins=100, title='Frequency of days until reimbursement')\n",
    "fig5.update_xaxes(nticks=50) \n",
    "fig5.show()"
   ]
  },
  {
   "cell_type": "code",
   "execution_count": null,
   "id": "6f8c27d4-870c-4ac2-a418-0c0b0fe4ff96",
   "metadata": {},
   "outputs": [],
   "source": [
    "# money_back_date\n",
    "\n",
    "fig6 = px.histogram(df, x='money_back_date', nbins=100, title='Frequency of money back dates')\n",
    "fig6.show()"
   ]
  },
  {
   "cell_type": "code",
   "execution_count": null,
   "id": "eb809f61-0f86-4f29-9ad5-466178511514",
   "metadata": {},
   "outputs": [],
   "source": [
    "# with money back date not null\n",
    "\n",
    "df_mbd_notnull = df[df['money_back_date'].notnull()]\n",
    "\n",
    "fig7 = px.histogram(df_mbd_notnull, x='status_cr', nbins = 1000, title='Frequency of statuses with money_back_date')\n",
    "\n",
    "fig7.show()\n"
   ]
  },
  {
   "cell_type": "code",
   "execution_count": null,
   "id": "3eac4874-d4db-440e-8db4-46d688517dc7",
   "metadata": {},
   "outputs": [],
   "source": [
    "# without money back date\n",
    "\n",
    "df_mbd_isnull = df[df['money_back_date'].isnull()]\n",
    "\n",
    "fig8 = px.histogram(df_mbd_isnull, x='status_cr', nbins = 1000, title='Frequency of statuses with no money_back_date')\n",
    "\n",
    "fig8.show()"
   ]
  },
  {
   "cell_type": "code",
   "execution_count": null,
   "id": "818fee44-d31d-493c-8248-bed948664e43",
   "metadata": {},
   "outputs": [],
   "source": [
    "# send_at is not null\n",
    "\n",
    "df_send_at_notnull = df[df['send_at'].notnull()]\n",
    "\n",
    "fig9 = px.histogram(df_send_at_notnull, x='status_cr', nbins = 1000, title='Frequency of statuses with send_at')\n",
    "\n",
    "fig9.show()"
   ]
  },
  {
   "cell_type": "code",
   "execution_count": null,
   "id": "4a57f631-b9bf-41d8-96bd-3ce737c5a2fa",
   "metadata": {},
   "outputs": [],
   "source": [
    "# send_at is null\n",
    "\n",
    "df_send_at_isnull = df[df['send_at'].isnull()]\n",
    "\n",
    "fig10 = px.histogram(df_send_at_isnull, x='status_cr', nbins = 1000, title='Frequency of statuses without send_at')\n",
    "\n",
    "fig10.show()"
   ]
  },
  {
   "cell_type": "code",
   "execution_count": null,
   "id": "2621e89d-9e33-4460-8d8e-c81a8b193fa8",
   "metadata": {},
   "outputs": [],
   "source": [
    "# reco_creation\n",
    "\n",
    "fig11 = px.histogram(df, x='reco_creation', nbins = 1000, title='Frequency of reco_creation')\n",
    "\n",
    "fig11.show()"
   ]
  },
  {
   "cell_type": "code",
   "execution_count": null,
   "id": "663453e1-695e-4f5e-9d6d-c218a5d27703",
   "metadata": {},
   "outputs": [],
   "source": [
    "# created_at_fees\n",
    "\n",
    "fig12 = px.histogram(df, x='created_at_fees', nbins = 1000, title='Frequency of created_at_fees')\n",
    "\n",
    "fig12.show()"
   ]
  },
  {
   "cell_type": "code",
   "execution_count": null,
   "id": "9cb98eff-ffa3-4b64-a9c0-ef8d09f4fbc7",
   "metadata": {},
   "outputs": [],
   "source": [
    "# updated_at_fees\n",
    "\n",
    "fig13 = px.histogram(df, x='updated_at_fees', nbins = 150, title='Frequency of created_at_fees')\n",
    "\n",
    "fig13.show()"
   ]
  },
  {
   "cell_type": "code",
   "execution_count": null,
   "id": "af37f7f3-1026-4c9b-8bef-299e7608ea46",
   "metadata": {},
   "outputs": [],
   "source": [
    "# charge_moment and type\n",
    "df_filtered = df[df['paid_at'].isna()]\n",
    "\n",
    "counts = df_filtered.groupby(['charge_moment', 'type']).size().reset_index(name='count')\n",
    "\n",
    "figure = px.bar(counts, \n",
    "             x='charge_moment', \n",
    "             y='count', \n",
    "             color='type', \n",
    "             barmode='group', \n",
    "             text='count',\n",
    "             title='Count of Charge Moment vs Type')\n",
    "\n",
    "figure.show()\n"
   ]
  },
  {
   "cell_type": "code",
   "execution_count": null,
   "id": "26b328ec-db66-4e5c-b97d-d9101262537a",
   "metadata": {},
   "outputs": [],
   "source": [
    "# charge_moment and status\n",
    "df_filtered = df[df['paid_at'].isna()]\n",
    "\n",
    "counts_status = df_filtered.groupby(['charge_moment', 'status_fees']).size().reset_index(name='count')\n",
    "\n",
    "figure1 = px.bar(counts_status, \n",
    "             x='charge_moment', \n",
    "             y='count', \n",
    "             color='status_fees', \n",
    "             barmode='group', \n",
    "             text='count',\n",
    "             title='Count of Charge Moment vs status')\n",
    "\n",
    "figure1.show()"
   ]
  },
  {
   "cell_type": "code",
   "execution_count": null,
   "id": "dceb1e0a-5caa-4f34-afca-054b60c994c1",
   "metadata": {},
   "outputs": [],
   "source": [
    "# status and type\n",
    "df_filtered = df[df['paid_at'].isna()]\n",
    "\n",
    "counts_type = df_filtered.groupby(['status_fees', 'type']).size().reset_index(name='count')\n",
    "\n",
    "figure2 = px.bar(counts_type, \n",
    "             x='status_fees', \n",
    "             y='count', \n",
    "             color='type', \n",
    "             barmode='group', \n",
    "             text='count',\n",
    "             title='Count of Status vs Type')\n",
    "\n",
    "figure2.show()"
   ]
  },
  {
   "cell_type": "code",
   "execution_count": null,
   "id": "b56c915c-864b-46c3-940e-70c3b4c3da74",
   "metadata": {},
   "outputs": [],
   "source": [
    "# Graph of the evolution of revenue (cumulative sum)\n",
    "df_copy = df.copy()\n",
    "df_copy['total_amount_cumsum'] = df_copy['total_amount'].cumsum()\n",
    "\n",
    "\n",
    "df_copy = df_copy.sort_values('created_at_cr')\n",
    "\n",
    "df_copy['total_amount_cumsum'] = df_copy['total_amount'].cumsum()\n",
    "\n",
    "fig_cumsum = px.line(df_copy, \n",
    "                     x='created_at_cr', \n",
    "                     y='total_amount_cumsum',   \n",
    "                     title='Cumulative Sum of Total Revenue Over Time (Monthly Grouping)'\n",
    "                    )\n",
    "fig_cumsum.show()\n"
   ]
  },
  {
   "cell_type": "markdown",
   "id": "d763b3fa-b2d7-40e0-93d0-4344b3f23e68",
   "metadata": {},
   "source": [
    "# Cohort Creation"
   ]
  },
  {
   "cell_type": "markdown",
   "id": "3fa0dbf6-92ae-4eed-813b-ad4dc1dd2e6c",
   "metadata": {},
   "source": [
    "**Important information:**\n",
    "For the cohort creation, we are going to combine the deleted users (deleted_account_id) and the active users (user_id) since we want to understand the behaviour of all users independently if they removed their account at some point or not. \n"
   ]
  },
  {
   "cell_type": "code",
   "execution_count": null,
   "id": "de657164-571c-4c7c-8377-545876f3f523",
   "metadata": {},
   "outputs": [],
   "source": [
    "# Combine 'user_id' and 'deleted_account_id' in 'user_id_combined'\n",
    "df['user_id_combined'] = df['user_id'].combine_first(df['deleted_account_id'])\n",
    "\n",
    "# We ensure created_at_cr is a timestamp\n",
    "df['created_at_cr'] = pd.to_datetime(df['created_at_cr'])\n",
    "\n",
    "# Group by 'user_id_combined'and aggregate for the min date of created_at_cr\n",
    "df_cohort = df.groupby('user_id_combined').agg(first_cr_at=('created_at_cr', 'min')).reset_index()\n",
    "\n",
    "# Extract the cohort month (year and month) from the first cash request date\n",
    "df_cohort['cohort_month'] = df_cohort['first_cr_at'].dt.to_period('M')\n",
    "\n",
    "# Merge new column cohort with the original \n",
    "df = df.merge(df_cohort[['user_id_combined', 'cohort_month']], on='user_id_combined', how='left')\n",
    "\n",
    "# Calculate the 'age' of the cohort (difference in months between the cash advance and cohort month)\n",
    "# Extract the advance month from the 'created_at_cr' column\n",
    "df['cr_month'] = df['created_at_cr'].dt.to_period('M')"
   ]
  },
  {
   "cell_type": "code",
   "execution_count": null,
   "id": "3462809d-f9be-4585-a49c-e4eefb9404c1",
   "metadata": {},
   "outputs": [],
   "source": [
    "# Calculate the difference in months between the cash request month and the cohort month\n",
    "# Since cr_month and cohort_month are type Period, we first calculate the difference in years *12 months, \n",
    "# and add it to the difference in months\n",
    "df['cohort_age'] = ((df['cr_month'].dt.year - df['cohort_month'].dt.year) * 12 +\n",
    "                    (df['cr_month'].dt.month - df['cohort_month'].dt.month))"
   ]
  },
  {
   "cell_type": "code",
   "execution_count": null,
   "id": "3f9e0d91-2a0c-4210-be70-b56179f2ebbb",
   "metadata": {},
   "outputs": [],
   "source": [
    "# Cohort visualization by user_id\n",
    "\n",
    "cohort_pivot = df.pivot_table(index='cohort_month', columns='cohort_age', values='user_id', aggfunc='count')\n",
    "\n",
    "# Fill NaN values with 0 to avoid issues with the heatmap\n",
    "cohort_pivot = cohort_pivot.fillna(0)\n",
    "\n",
    "# Convert all values to integers\n",
    "cohort_pivot = cohort_pivot.astype(int)\n",
    "\n",
    "plt.figure(figsize=(10, 6))\n",
    "\n",
    "sns.heatmap(cohort_pivot, annot=True, fmt=\"d\", cmap=\"Greens\", linewidths=0.5)\n",
    "\n",
    "plt.title(\"Cohort Analysis - Users Over Time\", fontsize=16)\n",
    "plt.xlabel(\"Cohort Age (Months)\") \n",
    "plt.ylabel(\"Cohort Month\")\n",
    "\n",
    "plt.show()"
   ]
  },
  {
   "cell_type": "markdown",
   "id": "68dccfe3-9cf3-4181-bf1d-2f8ba27564f2",
   "metadata": {},
   "source": [
    "This is the representations of the cohorts by counts of users. This provides the evolution of users that are registered in the Ironhack Payments platform that have at least made one cash request.\n",
    "\n",
    "**Insight:**\n",
    "\n",
    "- Recent cohorts (mid-2020 and beyond) have larger user bases, but retention challenges remain, as only a portion of users remain active after the first few months.\n",
    "- October 2020 saw a particularly large influx of new users (6,118), but further data is needed to determine how many of these users continue using the service in subsequent months.\n",
    "- Focus should be placed on improving early-stage retention strategies to prevent high churn rates in the first 3–6 months after a user joins."
   ]
  },
  {
   "cell_type": "markdown",
   "id": "3757e281-6a43-42b9-ac37-83483e90d815",
   "metadata": {},
   "source": [
    "# Metrics"
   ]
  },
  {
   "cell_type": "markdown",
   "id": "33800fe1-c348-465a-9446-c91877410a03",
   "metadata": {},
   "source": [
    "## 1. Frequency of Service Usage\n",
    "Understand how often users from each cohort utilize IronHack Payments' cash advance services over time."
   ]
  },
  {
   "cell_type": "code",
   "execution_count": null,
   "id": "1b17e6a0-5d6e-47df-a865-ce363a287e16",
   "metadata": {},
   "outputs": [],
   "source": [
    "# Create a pivot table \n",
    "cohort_pivot_freq_cr = df.pivot_table(index='cohort_month', columns='cohort_age', values='id_cr', aggfunc='count')\n",
    "\n",
    "cohort_pivot_freq_cr"
   ]
  },
  {
   "cell_type": "code",
   "execution_count": null,
   "id": "5b427c78-27b8-45af-8e96-39cf7c83766d",
   "metadata": {},
   "outputs": [],
   "source": [
    "# Ensure plots are displayed inline in the notebook\n",
    "%matplotlib inline\n",
    "\n",
    "# Fill NaN values with 0 to avoid issues with the heatmap\n",
    "cohort_pivot_freq_cr = cohort_pivot_freq_cr.fillna(0)\n",
    "\n",
    "# Convert all values to integers\n",
    "cohort_pivot_freq_cr = cohort_pivot_freq_cr.astype(int)\n",
    "\n",
    "plt.figure(figsize=(10, 6))\n",
    "\n",
    "sns.heatmap(cohort_pivot_freq_cr, annot=True, fmt=\"d\", cmap=\"Blues\")\n",
    "\n",
    "plt.title(\"Cohort Analysis - Number of Cash Requests\", fontsize=16)\n",
    "plt.xlabel(\"Cohort Age (Months)\")\n",
    "plt.ylabel(\"Cohort Month\")\n",
    "\n",
    "plt.show()"
   ]
  },
  {
   "cell_type": "markdown",
   "id": "095a971a-4ac9-4ae0-bd65-b432c1bc81b3",
   "metadata": {},
   "source": [
    "**Insights:**\n",
    "- High Initial Engagement but Rapid Drop-Off: Most cohorts, especially those from mid-2020 onward, show strong initial engagement (high number of cash requests in month 0), but this engagement drops off sharply after the first few months. This aligns with earlier observations about churn, where users tend to disengage after the first few months of activity.\n",
    "\n",
    "- Sustained Engagement in June and July 2020 Cohorts: The June and July 2020 cohorts stand out for having more sustained user engagement. These cohorts continued to generate a significant number of cash requests for several months, with June 2020 maintaining more than 1,000 requests by month 3. However, even these cohorts experience a significant drop by month 5 or 6.\n",
    "\n",
    "- Recent Cohorts Show High Initial Activity but Lack Long-Term Engagement: The October and September 2020 cohorts display the highest initial activity in terms of cash requests, with thousands of requests in month 0. However, there is no data for activity in subsequent months, either due to limited data availability or because these cohorts may not have yet reached future months of activity."
   ]
  },
  {
   "cell_type": "markdown",
   "id": "558b22b0-7fbd-4bcc-8ed8-ae891cf365d9",
   "metadata": {},
   "source": [
    "## 2. Incident Rate \n",
    "\n",
    "Determine the incident rate, specifically focusing on payment incidents, for each cohort. Identify if there are variations in incident rates among different cohorts."
   ]
  },
  {
   "cell_type": "code",
   "execution_count": null,
   "id": "a3f69df3-9466-462e-b9cf-6972bb7a950a",
   "metadata": {},
   "outputs": [],
   "source": [
    "# Create new column for flagging if the fee has an incident\n",
    "# We assume incidents refer to all the fees with status as cancelled and rejected.\n",
    "\n",
    "df['is_incident'] = np.where(df['status_fees'].isin(['canceled', 'rejected']), 1, 0)"
   ]
  },
  {
   "cell_type": "code",
   "execution_count": null,
   "id": "69edf5df-b577-46da-9fa0-2229dbab9536",
   "metadata": {},
   "outputs": [],
   "source": [
    "# How many incidents?\n",
    "df['is_incident'].sum()"
   ]
  },
  {
   "cell_type": "code",
   "execution_count": null,
   "id": "76928e34-8c2b-4845-ac87-3006b78c60d1",
   "metadata": {},
   "outputs": [],
   "source": [
    "# Overall incident rate\n",
    "incident_rate_overall = (df['is_incident'].sum() / df['id_cr'].nunique())\n",
    "print(\"{:.2%}\".format(incident_rate_overall))"
   ]
  },
  {
   "cell_type": "code",
   "execution_count": null,
   "id": "65c324db-d406-49b7-8a6c-8d4d008c1c41",
   "metadata": {},
   "outputs": [],
   "source": [
    "# Group by cohort_month and calculate the total number of incidents and cash requests\n",
    "cohort_metrics = df.groupby('cohort_age').agg(\n",
    "    total_cr=('id_cr', 'count'),  \n",
    "    total_incidents=('is_incident', 'sum')\n",
    ").reset_index()\n",
    "\n",
    "cohort_metrics['incident_rate'] = cohort_metrics['total_incidents'] / cohort_metrics['total_cr']\n",
    "\n",
    "print(cohort_metrics)"
   ]
  },
  {
   "cell_type": "code",
   "execution_count": null,
   "id": "e89db827-034d-4a57-a3a2-b7593e5447c2",
   "metadata": {},
   "outputs": [],
   "source": [
    "fig_inc = px.bar(\n",
    "    cohort_metrics, \n",
    "    x='cohort_age', \n",
    "    y='incident_rate', \n",
    "    labels={'cohort_month': 'Cohort (Month)', 'incident_rate': 'Incident Rate'},\n",
    "    title='Incident Rate by Cohort', \n",
    "    color='incident_rate',\n",
    "    color_continuous_scale = 'Oranges'\n",
    ")\n",
    "\n",
    "fig_inc.show()"
   ]
  },
  {
   "cell_type": "markdown",
   "id": "605711b7-675d-4d47-a211-40a0b30d2def",
   "metadata": {},
   "source": [
    "**Insight:**\n",
    "\n",
    "People who have used the service repeatedly tend to have lower incidence rates than those who use them on an ad hoc basis. \n",
    "\n",
    "This may be because people who are 'on time users' have greater financial urgency or rather because they were unaware of how the platform works.\n",
    "\n",
    "It is also important to note that as the cohort_age increases, the number of cash requests and users decreases and therefore the accuracy of the ratio.\n",
    "\n"
   ]
  },
  {
   "cell_type": "markdown",
   "id": "44b0d3e0-c04e-42a2-8345-4035c495207e",
   "metadata": {},
   "source": [
    "## 3. Revenue Generated by the Cohort\n",
    "Calculate the total revenue generated by each cohort over months to assess the financial impact of user behavior.\n",
    "\n",
    "The revenue is going to be calculated by the sum of the total amounts of fees."
   ]
  },
  {
   "cell_type": "code",
   "execution_count": null,
   "id": "d5285e57-bb28-4e48-9000-9879a8e61fb6",
   "metadata": {},
   "outputs": [],
   "source": [
    "# Group by cohort_month, cr_month and cohort_age to calculate total revenue with total amount of fees\n",
    "revenue_generated = df.groupby(['cohort_month', 'cr_month', 'cohort_age'])['total_amount'].sum().reset_index()\n",
    "revenue_generated"
   ]
  },
  {
   "cell_type": "code",
   "execution_count": null,
   "id": "f5524c86-4a1c-4743-ac59-3db71c126a26",
   "metadata": {},
   "outputs": [],
   "source": [
    "# Create a pivot table for revenue with Cohort Age\n",
    "revenue_pivot = revenue_generated.pivot_table(\n",
    "    index='cohort_month',        \n",
    "    columns='cohort_age',    \n",
    "    values='total_amount',       \n",
    "    fill_value=0  # Filling with 0 where there is no revenue\n",
    ")\n",
    "revenue_pivot"
   ]
  },
  {
   "cell_type": "code",
   "execution_count": null,
   "id": "fdb39e31-4c16-4738-a226-bf9bbe03a09d",
   "metadata": {},
   "outputs": [],
   "source": [
    "plt.figure(figsize=(10, 6))\n",
    "\n",
    "sns.heatmap(revenue_pivot, annot=True, fmt=\".0f\", cmap=\"Purples\")\n",
    "\n",
    "plt.title(\"Cohort Analysis - Revenue Generated\", fontsize=16)\n",
    "plt.ylabel(\"Cohort Month\")\n",
    "plt.xlabel(\"Cohort Age (Months)\")\n",
    "\n",
    "plt.show()"
   ]
  },
  {
   "cell_type": "markdown",
   "id": "a2dcd1f1-68a1-456e-bffd-21a79466ecc2",
   "metadata": {},
   "source": [
    "**Insight:**\n",
    "- **High initial revenue in October 2020**: The October 2020 cohort is by far the most successful in terms of initial revenue, generating almost 30,000 in its first month. However, this cohort shows no revenue in subsequent months, indicating potential early churn or lack of further engagement.\n",
    "- **Mid-2020 cohorts show sustained engagement**: The June 2020 and July 2020 cohorts show consistent revenue generation across several months, with relatively high amounts generated up to four or five months after the initial transaction. This sustained revenue generation indicates stronger retention and continued usage of the platform during this period.\n",
    "- **Steady revenue in early 2020 cohorts**: While the revenue generated by early 2020 cohorts is lower compared to mid-2020 cohorts, there is still a notable amount of revenue being generated across multiple months. These cohorts show steady but modest engagement with the platform."
   ]
  },
  {
   "cell_type": "code",
   "execution_count": null,
   "id": "eb87c59d-ed99-4294-930c-6763ab8dc328",
   "metadata": {},
   "outputs": [],
   "source": [
    "# Group by cohort_age and sum total_amount to plot it\n",
    "revenue_grouped = revenue_generated.groupby('cohort_age', as_index=False).agg({'total_amount': 'sum'})\n",
    "\n",
    "fig_rev = px.bar(\n",
    "    revenue_grouped, \n",
    "    x='cohort_age', \n",
    "    y='total_amount', \n",
    "    title='Revenue by Cohort', \n",
    "    color='total_amount',\n",
    "    color_continuous_scale = 'Turbo'\n",
    ")\n",
    "\n",
    "fig_rev.show()"
   ]
  },
  {
   "cell_type": "markdown",
   "id": "ff0d9fb7-2321-49bb-88e8-02f2476df055",
   "metadata": {},
   "source": [
    "**Insight:**\n",
    "\n",
    "As seen above, we see that the revenue is highly concentrated in the early cohort"
   ]
  },
  {
   "cell_type": "markdown",
   "id": "a74f8958-32db-4e66-91af-e22309845979",
   "metadata": {},
   "source": [
    "## 4. New Relevant Metric \n",
    "Propose and calculate a new relevant metric that provides additional insights into user behavior or the performance of IronHack Payments' services.\n",
    "\n",
    "The proposed metric is **Churn Rate**.It represents the percentage of users who deleted their account after having been active for a certain period of time. It is a crucial metric for assessing user retention and satisfaction with the service."
   ]
  },
  {
   "cell_type": "markdown",
   "id": "8e73c87d-bf5a-492e-99e2-b9895698180a",
   "metadata": {},
   "source": [
    "$\\text{Churn Rate} = \\frac{\\text{Number of deleted accounts}}{\\text{Total number of users}}\\times 100$\n"
   ]
  },
  {
   "cell_type": "code",
   "execution_count": null,
   "id": "376d2881-d9ac-4cb1-a048-ddb1ce1796e0",
   "metadata": {},
   "outputs": [],
   "source": [
    "# Create a column that indicates if the user has churned (1 if 'deleted_account_id' is not null, 0 otherwise)\n",
    "\n",
    "df['is_churned'] = np.where(df['deleted_account_id'].notna(), 1, 0)\n",
    "\n",
    "# Group by cohort and cohort age to count active users and churned users\n",
    "cohort_churn = df.groupby(['cohort_month', 'cohort_age']).agg(\n",
    "    total_users=('user_id_combined', 'nunique'),\n",
    "    churned_users=('is_churned', 'sum')\n",
    ").reset_index()\n",
    "\n",
    "cohort_churn['churn_pct'] = (cohort_churn['churned_users'] / cohort_churn['total_users']) * 100\n",
    "\n",
    "cohort_churn"
   ]
  },
  {
   "cell_type": "code",
   "execution_count": null,
   "id": "7740b9a4-eba0-4df5-b96f-901c1a07f82c",
   "metadata": {},
   "outputs": [],
   "source": [
    "# How many users churned?\n",
    "cohort_churn['churned_users'].sum()"
   ]
  },
  {
   "cell_type": "code",
   "execution_count": null,
   "id": "86a71a25-8cde-4dcf-85c1-d1d1da04dc31",
   "metadata": {},
   "outputs": [],
   "source": [
    "# What is the overall churn rate?\n",
    "churn_rate = (df['is_churned'].sum() / df['user_id_combined'].nunique()) \n",
    "print(\"{:.2%}\".format(churn_rate))"
   ]
  },
  {
   "cell_type": "markdown",
   "id": "7c1d15fc-5a46-4f67-ab07-d9b4649fe880",
   "metadata": {},
   "source": [
    "**Warning!** \n",
    "\n",
    "The following graphs are created out of very few users (see cell above 👆 ), so please take that into consideration before making any major decision based on the plots"
   ]
  },
  {
   "cell_type": "code",
   "execution_count": null,
   "id": "d082f30a-2dd8-4c79-a4e3-37745eb37de1",
   "metadata": {},
   "outputs": [],
   "source": [
    "# Group the data by cohort_age to calculate the average churn rate for each cohort age\n",
    "churn_by_age = cohort_churn.groupby('cohort_age').agg(\n",
    "    avg_churn_rate=('churn_pct', 'mean')\n",
    ").reset_index()"
   ]
  },
  {
   "cell_type": "code",
   "execution_count": null,
   "id": "a8be72b3-8658-454d-8bcf-2970a7eaafea",
   "metadata": {},
   "outputs": [],
   "source": [
    "fig_churn_bar = px.bar(\n",
    "    churn_by_age, \n",
    "    x='cohort_age',\n",
    "    y='avg_churn_rate',  \n",
    "    title='Average Churn Rate by Cohort Age', \n",
    "    labels={'cohort_age': 'Cohort Age', 'avg_churn_rate': 'Average Churn Rate (%)'},  \n",
    "    color='avg_churn_rate',  \n",
    "    color_continuous_scale='Reds'\n",
    ")\n",
    "\n",
    "fig_churn_bar.show()"
   ]
  },
  {
   "cell_type": "markdown",
   "id": "5fc9b642-3519-4610-b7a8-e56f3e5e7303",
   "metadata": {},
   "source": [
    "**Insight fig_churn_bar:**\n",
    "\n",
    "Cohort Age 0 and Cohort Age 5 (6th month) present the highest churn rates, near 15%. Users are more prone to delete their accounts the first month of their first cash request or around their 6th month. After that we see a huge decrease in the churn rate (also take into account there are very few users in these cohorts)"
   ]
  },
  {
   "cell_type": "code",
   "execution_count": null,
   "id": "8807738d-63b7-41b4-b0c2-d758d6cec3b7",
   "metadata": {},
   "outputs": [],
   "source": [
    "# Create a pivot table for visualizing the churn rate over cohort age for each cohort\n",
    "cohort_pivot = cohort_churn.pivot_table(index='cohort_month', columns='cohort_age', values='churn_pct')\n",
    "\n",
    "plt.figure(figsize=(10, 6))\n",
    "\n",
    "# Create a heatmap to visualize the churn rate over time for each cohort\n",
    "sns.heatmap(cohort_pivot, cmap=\"Reds\", annot=True, fmt=\".1f\", linewidths=.5)\n",
    "\n",
    "plt.title('Churn Rate % by Cohort over Time', fontsize=16)\n",
    "plt.xlabel('Cohort Age (Months)')\n",
    "plt.ylabel('Cohort Month')\n",
    "\n",
    "plt.show()"
   ]
  },
  {
   "cell_type": "markdown",
   "id": "d7646159-64e7-4c44-884b-30c2a73478a4",
   "metadata": {},
   "source": [
    "**Insight for Churn Rate**\n",
    "\n",
    "- The global churn rate of **21.82%** shows that more than one-fifth of users who signed up for IronHack Payments have churned.\n",
    "\n",
    "- Out of 11,793 total users, **2,573** users have left the service, highlighting the importance of focusing on retention in the early months to reduce churn.\n",
    "\n",
    "- More recent cohorts (such as those starting in September and October 2020) show signs of improving retention, with lower churn rates in the early months. This could be a positive sign of improved retention strategies."
   ]
  }
 ],
 "metadata": {
  "kernelspec": {
   "display_name": "Python 3 (ipykernel)",
   "language": "python",
   "name": "python3"
  },
  "language_info": {
   "codemirror_mode": {
    "name": "ipython",
    "version": 3
   },
   "file_extension": ".py",
   "mimetype": "text/x-python",
   "name": "python",
   "nbconvert_exporter": "python",
   "pygments_lexer": "ipython3",
   "version": "3.12.4"
  }
 },
 "nbformat": 4,
 "nbformat_minor": 5
}
